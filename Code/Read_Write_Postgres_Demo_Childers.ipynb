{
 "cells": [
  {
   "cell_type": "code",
   "execution_count": 1,
   "metadata": {},
   "outputs": [],
   "source": [
    "import sqlalchemy\n",
    "from sqlalchemy import create_engine, inspect, text\n",
    "import pandas as pd\n",
    "import numpy as np\n",
    "import seaborn as sns\n",
    "import matplotlib.pyplot as plt"
   ]
  },
  {
   "cell_type": "code",
   "execution_count": 2,
   "metadata": {},
   "outputs": [],
   "source": [
    "SQL_USERNAME = \"postgres\"\n",
    "SQL_PASSWORD = \"password\"\n",
    "SQL_IP = \"localhost\"\n",
    "PORT = '5432'\n",
    "DATABASE = \"crowdfunding_db\""
   ]
  },
  {
   "cell_type": "code",
   "execution_count": 3,
   "metadata": {},
   "outputs": [],
   "source": [
    "# create engine\n",
    "connection_string = f\"postgresql+psycopg2://{SQL_USERNAME}:{SQL_PASSWORD}@{SQL_IP}:{PORT}/{DATABASE}\"\n",
    "engine = create_engine(connection_string) "
   ]
  },
  {
   "cell_type": "code",
   "execution_count": 4,
   "metadata": {},
   "outputs": [
    {
     "name": "stdout",
     "output_type": "stream",
     "text": [
      "contact_info\n",
      "contact_id INTEGER\n",
      "first_name VARCHAR(100)\n",
      "last_name VARCHAR(100)\n",
      "email VARCHAR(100)\n",
      "last_updated TIMESTAMP\n",
      "\n",
      "campaign\n",
      "cf_id INTEGER\n",
      "contact_id INTEGER\n",
      "company_name VARCHAR(50)\n",
      "description VARCHAR\n",
      "goal DOUBLE_PRECISION\n",
      "pledged DOUBLE_PRECISION\n",
      "outcome VARCHAR(10)\n",
      "backers_count INTEGER\n",
      "country VARCHAR(5)\n",
      "currency VARCHAR(5)\n",
      "launch_date DATE\n",
      "end_date DATE\n",
      "staff_pick BOOLEAN\n",
      "spotlight BOOLEAN\n",
      "category_id VARCHAR(5)\n",
      "subcategory_id VARCHAR(10)\n",
      "last_updated TIMESTAMP\n",
      "\n",
      "categories\n",
      "category_id VARCHAR(5)\n",
      "category VARCHAR(20)\n",
      "last_updated TIMESTAMP\n",
      "\n",
      "subcategories\n",
      "subcategory_id VARCHAR(10)\n",
      "subcategory VARCHAR(20)\n",
      "last_updated TIMESTAMP\n",
      "\n"
     ]
    }
   ],
   "source": [
    "# explore and understand the data\n",
    "\n",
    "# Create the inspector and connect it to the engine\n",
    "inspector = inspect(engine)\n",
    "\n",
    "# Collect the names of tables within the database\n",
    "tables = inspector.get_table_names()\n",
    "\n",
    "# Using the inspector to print the column names within each table and its types\n",
    "for table in tables:\n",
    "    print(table)\n",
    "    columns = inspector.get_columns(table)\n",
    "    for column in columns:\n",
    "        print(column[\"name\"], column[\"type\"])\n",
    "        \n",
    "    print()"
   ]
  },
  {
   "cell_type": "code",
   "execution_count": 5,
   "metadata": {},
   "outputs": [
    {
     "name": "stdout",
     "output_type": "stream",
     "text": [
      "(1000, 4)\n"
     ]
    },
    {
     "data": {
      "text/plain": [
       "1000"
      ]
     },
     "execution_count": 5,
     "metadata": {},
     "output_type": "execute_result"
    }
   ],
   "source": [
    "# LOAD DATA\n",
    "filepath = \"../Resources (CSV Files)/Team_3_contacts.csv\"\n",
    "df = pd.read_csv(filepath)\n",
    "df.columns = [x.lower() for x in df.columns]\n",
    "print(df.shape)\n",
    "\n",
    "# write to SQL\n",
    "df.to_sql(\"contact_info\", schema=\"public\", con=engine, if_exists=\"append\", method=\"multi\", index=False)"
   ]
  },
  {
   "cell_type": "code",
   "execution_count": 6,
   "metadata": {},
   "outputs": [
    {
     "name": "stdout",
     "output_type": "stream",
     "text": [
      "(9, 2)\n"
     ]
    },
    {
     "data": {
      "text/plain": [
       "9"
      ]
     },
     "execution_count": 6,
     "metadata": {},
     "output_type": "execute_result"
    }
   ],
   "source": [
    "# LOAD DATA\n",
    "filepath = \"../Resources (CSV Files)/Team_3_category.csv\"\n",
    "df = pd.read_csv(filepath)\n",
    "df.columns = [x.lower() for x in df.columns]\n",
    "print(df.shape)\n",
    "\n",
    "# write to SQL\n",
    "df.to_sql(\"categories\", schema=\"public\", con=engine, if_exists=\"append\", method=\"multi\", index=False)"
   ]
  },
  {
   "cell_type": "code",
   "execution_count": 7,
   "metadata": {},
   "outputs": [
    {
     "name": "stdout",
     "output_type": "stream",
     "text": [
      "(24, 2)\n"
     ]
    },
    {
     "data": {
      "text/plain": [
       "24"
      ]
     },
     "execution_count": 7,
     "metadata": {},
     "output_type": "execute_result"
    }
   ],
   "source": [
    "# LOAD DATA\n",
    "filepath = \"../Resources (CSV Files)/Team_3_subcategory.csv\"\n",
    "df = pd.read_csv(filepath)\n",
    "df.columns = [x.lower() for x in df.columns]\n",
    "print(df.shape)\n",
    "\n",
    "# write to SQL\n",
    "df.to_sql(\"subcategories\", schema=\"public\", con=engine, if_exists=\"append\", method=\"multi\", index=False)"
   ]
  },
  {
   "cell_type": "code",
   "execution_count": 8,
   "metadata": {},
   "outputs": [
    {
     "name": "stdout",
     "output_type": "stream",
     "text": [
      "(1000, 16)\n"
     ]
    },
    {
     "data": {
      "text/plain": [
       "1000"
      ]
     },
     "execution_count": 8,
     "metadata": {},
     "output_type": "execute_result"
    }
   ],
   "source": [
    "# LOAD DATA\n",
    "filepath = \"../Resources (CSV Files)/Team_3_campaign.csv\"\n",
    "df = pd.read_csv(filepath)\n",
    "df.columns = [x.lower() for x in df.columns]\n",
    "print(df.shape)\n",
    "\n",
    "# write to SQL\n",
    "df.to_sql(\"campaign\", schema=\"public\", con=engine, if_exists=\"append\", method=\"multi\", index=False)"
   ]
  },
  {
   "cell_type": "code",
   "execution_count": 9,
   "metadata": {},
   "outputs": [
    {
     "data": {
      "text/html": [
       "<div>\n",
       "<style scoped>\n",
       "    .dataframe tbody tr th:only-of-type {\n",
       "        vertical-align: middle;\n",
       "    }\n",
       "\n",
       "    .dataframe tbody tr th {\n",
       "        vertical-align: top;\n",
       "    }\n",
       "\n",
       "    .dataframe thead th {\n",
       "        text-align: right;\n",
       "    }\n",
       "</style>\n",
       "<table border=\"1\" class=\"dataframe\">\n",
       "  <thead>\n",
       "    <tr style=\"text-align: right;\">\n",
       "      <th></th>\n",
       "      <th>cf_id</th>\n",
       "      <th>contact_id</th>\n",
       "      <th>company_name</th>\n",
       "      <th>description</th>\n",
       "      <th>goal</th>\n",
       "      <th>pledged</th>\n",
       "      <th>outcome</th>\n",
       "      <th>backers_count</th>\n",
       "      <th>country</th>\n",
       "      <th>currency</th>\n",
       "      <th>launch_date</th>\n",
       "      <th>end_date</th>\n",
       "      <th>staff_pick</th>\n",
       "      <th>spotlight</th>\n",
       "      <th>category_id</th>\n",
       "      <th>subcategory_id</th>\n",
       "      <th>last_updated</th>\n",
       "    </tr>\n",
       "  </thead>\n",
       "  <tbody>\n",
       "    <tr>\n",
       "      <th>0</th>\n",
       "      <td>1905</td>\n",
       "      <td>2329</td>\n",
       "      <td>Romero-Hoffman</td>\n",
       "      <td>Open-source zero administration complexity</td>\n",
       "      <td>199200.0</td>\n",
       "      <td>184750.0</td>\n",
       "      <td>failed</td>\n",
       "      <td>2253</td>\n",
       "      <td>CA</td>\n",
       "      <td>CAD</td>\n",
       "      <td>2021-06-15</td>\n",
       "      <td>2021-10-26</td>\n",
       "      <td>False</td>\n",
       "      <td>False</td>\n",
       "      <td>4</td>\n",
       "      <td>subcat4</td>\n",
       "      <td>2024-01-07 17:46:46.143645</td>\n",
       "    </tr>\n",
       "    <tr>\n",
       "      <th>1</th>\n",
       "      <td>553</td>\n",
       "      <td>4593</td>\n",
       "      <td>Hensley Ltd</td>\n",
       "      <td>Versatile cohesive open system</td>\n",
       "      <td>199000.0</td>\n",
       "      <td>142823.0</td>\n",
       "      <td>failed</td>\n",
       "      <td>3483</td>\n",
       "      <td>US</td>\n",
       "      <td>USD</td>\n",
       "      <td>2021-07-27</td>\n",
       "      <td>2021-11-21</td>\n",
       "      <td>False</td>\n",
       "      <td>False</td>\n",
       "      <td>1</td>\n",
       "      <td>subcat1</td>\n",
       "      <td>2024-01-07 17:46:46.143645</td>\n",
       "    </tr>\n",
       "    <tr>\n",
       "      <th>2</th>\n",
       "      <td>2489</td>\n",
       "      <td>2272</td>\n",
       "      <td>Miller Ltd</td>\n",
       "      <td>Open-architected mobile emulation</td>\n",
       "      <td>198600.0</td>\n",
       "      <td>97037.0</td>\n",
       "      <td>failed</td>\n",
       "      <td>1198</td>\n",
       "      <td>US</td>\n",
       "      <td>USD</td>\n",
       "      <td>2020-11-10</td>\n",
       "      <td>2021-10-30</td>\n",
       "      <td>False</td>\n",
       "      <td>False</td>\n",
       "      <td>6</td>\n",
       "      <td>subcat10</td>\n",
       "      <td>2024-01-07 17:46:46.143645</td>\n",
       "    </tr>\n",
       "    <tr>\n",
       "      <th>3</th>\n",
       "      <td>2311</td>\n",
       "      <td>1673</td>\n",
       "      <td>Farrell and Sons</td>\n",
       "      <td>Synergized 4thgeneration conglomeration</td>\n",
       "      <td>198500.0</td>\n",
       "      <td>123040.0</td>\n",
       "      <td>failed</td>\n",
       "      <td>1482</td>\n",
       "      <td>AU</td>\n",
       "      <td>AUD</td>\n",
       "      <td>2020-08-23</td>\n",
       "      <td>2021-03-24</td>\n",
       "      <td>False</td>\n",
       "      <td>True</td>\n",
       "      <td>2</td>\n",
       "      <td>subcat2</td>\n",
       "      <td>2024-01-07 17:46:46.143645</td>\n",
       "    </tr>\n",
       "    <tr>\n",
       "      <th>4</th>\n",
       "      <td>2837</td>\n",
       "      <td>3768</td>\n",
       "      <td>Kelly-Colon</td>\n",
       "      <td>Stand-alone grid-enabled leverage</td>\n",
       "      <td>197900.0</td>\n",
       "      <td>110689.0</td>\n",
       "      <td>failed</td>\n",
       "      <td>4428</td>\n",
       "      <td>AU</td>\n",
       "      <td>AUD</td>\n",
       "      <td>2021-09-18</td>\n",
       "      <td>2021-11-30</td>\n",
       "      <td>False</td>\n",
       "      <td>False</td>\n",
       "      <td>4</td>\n",
       "      <td>subcat4</td>\n",
       "      <td>2024-01-07 17:46:46.143645</td>\n",
       "    </tr>\n",
       "  </tbody>\n",
       "</table>\n",
       "</div>"
      ],
      "text/plain": [
       "   cf_id  contact_id      company_name  \\\n",
       "0   1905        2329    Romero-Hoffman   \n",
       "1    553        4593       Hensley Ltd   \n",
       "2   2489        2272        Miller Ltd   \n",
       "3   2311        1673  Farrell and Sons   \n",
       "4   2837        3768       Kelly-Colon   \n",
       "\n",
       "                                  description      goal   pledged outcome  \\\n",
       "0  Open-source zero administration complexity  199200.0  184750.0  failed   \n",
       "1              Versatile cohesive open system  199000.0  142823.0  failed   \n",
       "2           Open-architected mobile emulation  198600.0   97037.0  failed   \n",
       "3     Synergized 4thgeneration conglomeration  198500.0  123040.0  failed   \n",
       "4           Stand-alone grid-enabled leverage  197900.0  110689.0  failed   \n",
       "\n",
       "   backers_count country currency launch_date    end_date  staff_pick  \\\n",
       "0           2253      CA      CAD  2021-06-15  2021-10-26       False   \n",
       "1           3483      US      USD  2021-07-27  2021-11-21       False   \n",
       "2           1198      US      USD  2020-11-10  2021-10-30       False   \n",
       "3           1482      AU      AUD  2020-08-23  2021-03-24       False   \n",
       "4           4428      AU      AUD  2021-09-18  2021-11-30       False   \n",
       "\n",
       "   spotlight category_id subcategory_id               last_updated  \n",
       "0      False           4        subcat4 2024-01-07 17:46:46.143645  \n",
       "1      False           1        subcat1 2024-01-07 17:46:46.143645  \n",
       "2      False           6       subcat10 2024-01-07 17:46:46.143645  \n",
       "3       True           2        subcat2 2024-01-07 17:46:46.143645  \n",
       "4      False           4        subcat4 2024-01-07 17:46:46.143645  "
      ]
     },
     "execution_count": 9,
     "metadata": {},
     "output_type": "execute_result"
    }
   ],
   "source": [
    "query = \"\"\"\n",
    "        SELECT\n",
    "            *\n",
    "        FROM\n",
    "            campaign\n",
    "        ORDER BY \n",
    "            goal DESC\n",
    "        LIMIT 10;\n",
    "        \"\"\"\n",
    "\n",
    "df = pd.read_sql(text(query), con=engine)\n",
    "df.head()"
   ]
  },
  {
   "cell_type": "code",
   "execution_count": 10,
   "metadata": {},
   "outputs": [
    {
     "data": {
      "image/png": "[encoded data removed]",
      "text/plain": [
       "<Figure size 1500x800 with 1 Axes>"
      ]
     },
     "metadata": {},
     "output_type": "display_data"
    }
   ],
   "source": [
    "plt.figure(figsize=(15,8))\n",
    "plt.barh(df.company_name, df.goal, color=\"blue\")\n",
    "plt.title(\"Top 10 Company's Goal Amount\", fontweight=\"bold\")\n",
    "plt.xlabel(\"Goal\")\n",
    "plt.xlim(195000, 200000)\n",
    "plt.grid(axis=\"x\", color=\"lightgrey\", linestyle=\"--\", alpha=0.10)\n",
    "\n",
    "plt.show()"
   ]
  },
  {
   "cell_type": "code",
   "execution_count": null,
   "metadata": {},
   "outputs": [],
   "source": []
  },
  {
   "cell_type": "code",
   "execution_count": null,
   "metadata": {},
   "outputs": [],
   "source": []
  }
 ],
 "metadata": {
  "kernelspec": {
   "display_name": "Python 3 (ipykernel)",
   "language": "python",
   "name": "python3"
  },
  "language_info": {
   "codemirror_mode": {
    "name": "ipython",
    "version": 3
   },
   "file_extension": ".py",
   "mimetype": "text/x-python",
   "name": "python",
   "nbconvert_exporter": "python",
   "pygments_lexer": "ipython3",
   "version": "3.10.13"
  }
 },
 "nbformat": 4,
 "nbformat_minor": 4
}
